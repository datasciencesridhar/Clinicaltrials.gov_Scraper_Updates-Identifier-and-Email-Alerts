{
 "cells": [
  {
   "cell_type": "code",
   "execution_count": 1,
   "metadata": {},
   "outputs": [],
   "source": [
    "import pandas as pd\n",
    "import numpy as np\n",
    "from datetime import date, datetime, timedelta\n",
    "import datacompy\n",
    "from pyspark.sql import Row"
   ]
  },
  {
   "cell_type": "code",
   "execution_count": 4,
   "metadata": {},
   "outputs": [],
   "source": [
    "tt1 = pd.read_excel(\"C:/Users/11201116/Documents/Techwave/GSK_Pilot_Project/CT_RA_Tracker/ct_tt_ra2020-02-06.xlsx\")\n",
    "tt2 = pd.read_excel(\"C:/Users/11201116/Documents/Techwave/GSK_Pilot_Project/CT_RA_Tracker/ct_tt_ra\"+str(date.today())+\".xlsx\")"
   ]
  },
  {
   "cell_type": "code",
   "execution_count": 5,
   "metadata": {},
   "outputs": [
    {
     "name": "stdout",
     "output_type": "stream",
     "text": [
      "(42, 27)\n",
      "(42, 27)\n"
     ]
    }
   ],
   "source": [
    "print(tt1.shape)\n",
    "print(tt2.shape)"
   ]
  },
  {
   "cell_type": "code",
   "execution_count": 6,
   "metadata": {},
   "outputs": [
    {
     "data": {
      "text/plain": [
       "Index(['Clinical Trial Identifier', 'Competitor Asset', 'Sponsor(s)',\n",
       "       'Trial Title', 'Condition/Disease', 'Trial Phase', 'Trial Status',\n",
       "       'Other Trial Identifier(s)', 'Target Accrual', 'Actual Accrual',\n",
       "       'Title Acronym', 'Countries', 'Trial Objective(s)', 'Study Design',\n",
       "       'Patient Segments', 'Treatment Plan', 'Dosing/Comparator', 'ROA',\n",
       "       'Outcome Measures', 'Study Start Date', 'Primary Completion Date',\n",
       "       'Study Completion Date', 'Inclusion Criteria', 'Exclusion Criteria',\n",
       "       'Trial Tag/Attribute', 'Other Trial Identifier(s).1',\n",
       "       'Trial Outcome(s)'],\n",
       "      dtype='object')"
      ]
     },
     "execution_count": 6,
     "metadata": {},
     "output_type": "execute_result"
    }
   ],
   "source": [
    "tt1.columns"
   ]
  },
  {
   "cell_type": "code",
   "execution_count": 9,
   "metadata": {},
   "outputs": [],
   "source": [
    "compare = datacompy.Compare(\n",
    "    tt1,\n",
    "    tt2,\n",
    "    join_columns='Clinical Trial Identifier',  #You can also specify a list of columns\n",
    "    #abs_tol=0, #Optional, defaults to 0\n",
    "    #rel_tol=0, #Optional, defaults to 0\n",
    "    #df1_name='Original', #Optional, defaults to 'df1'\n",
    "    #df2_name='New' #Optional, defaults to 'df2'\n",
    ")"
   ]
  },
  {
   "cell_type": "code",
   "execution_count": 10,
   "metadata": {
    "scrolled": true
   },
   "outputs": [
    {
     "data": {
      "text/plain": [
       "False"
      ]
     },
     "execution_count": 10,
     "metadata": {},
     "output_type": "execute_result"
    }
   ],
   "source": [
    "comp = compare.matches(ignore_extra_columns=False)\n",
    "comp"
   ]
  },
  {
   "cell_type": "code",
   "execution_count": 11,
   "metadata": {},
   "outputs": [
    {
     "name": "stdout",
     "output_type": "stream",
     "text": [
      "DataComPy Comparison\n",
      "--------------------\n",
      "\n",
      "DataFrame Summary\n",
      "-----------------\n",
      "\n",
      "  DataFrame  Columns  Rows\n",
      "0       df1       27    42\n",
      "1       df2       27    42\n",
      "\n",
      "Column Summary\n",
      "--------------\n",
      "\n",
      "Number of columns in common: 27\n",
      "Number of columns in df1 but not in df2: 0\n",
      "Number of columns in df2 but not in df1: 0\n",
      "\n",
      "Row Summary\n",
      "-----------\n",
      "\n",
      "Matched on: clinical trial identifier\n",
      "Any duplicates on match values: No\n",
      "Absolute Tolerance: 0\n",
      "Relative Tolerance: 0\n",
      "Number of rows in common: 42\n",
      "Number of rows in df1 but not in df2: 0\n",
      "Number of rows in df2 but not in df1: 0\n",
      "\n",
      "Number of rows with some compared columns unequal: 1\n",
      "Number of rows with all compared columns equal: 41\n",
      "\n",
      "Column Comparison\n",
      "-----------------\n",
      "\n",
      "Number of columns compared with some values unequal: 1\n",
      "Number of columns compared with all values equal: 26\n",
      "Total number of values which compare unequal: 1\n",
      "\n",
      "Columns with Unequal Values or Types\n",
      "------------------------------------\n",
      "\n",
      "             Column df1 dtype df2 dtype  # Unequal  Max Diff  # Null Diff\n",
      "0  trial outcome(s)    object    object          1         0            1\n",
      "\n",
      "Sample Rows with Unequal Values\n",
      "-------------------------------\n",
      "\n",
      "   clinical trial identifier trial outcome(s) (df1)      trial outcome(s) (df2)\n",
      "10               NCT03605251                    NaN  Completed, Outcome unknown\n",
      "\n",
      "\n"
     ]
    }
   ],
   "source": [
    "if comp == True:    ##### To check changes in 2 dataframes ######\n",
    "    print(\"There is no changes observed\")\n",
    "else:\n",
    "    print(compare.report())"
   ]
  },
  {
   "cell_type": "code",
   "execution_count": 12,
   "metadata": {},
   "outputs": [],
   "source": [
    "data = compare.intersect_rows"
   ]
  },
  {
   "cell_type": "code",
   "execution_count": 13,
   "metadata": {},
   "outputs": [],
   "source": [
    "data.to_csv('comapre.intersect_rows_tt.csv')"
   ]
  },
  {
   "cell_type": "code",
   "execution_count": 14,
   "metadata": {},
   "outputs": [
    {
     "data": {
      "text/plain": [
       "(42, 80)"
      ]
     },
     "execution_count": 14,
     "metadata": {},
     "output_type": "execute_result"
    }
   ],
   "source": [
    "data.shape"
   ]
  },
  {
   "cell_type": "code",
   "execution_count": 15,
   "metadata": {},
   "outputs": [
    {
     "data": {
      "text/plain": [
       "Index(['clinical trial identifier', 'competitor asset_df1', 'sponsor(s)_df1',\n",
       "       'trial title_df1', 'condition/disease_df1', 'trial phase_df1',\n",
       "       'trial status_df1', 'other trial identifier(s)_df1',\n",
       "       'target accrual_df1', 'actual accrual_df1', 'title acronym_df1',\n",
       "       'countries_df1', 'trial objective(s)_df1', 'study design_df1',\n",
       "       'patient segments_df1', 'treatment plan_df1', 'dosing/comparator_df1',\n",
       "       'roa_df1', 'outcome measures_df1', 'study start date_df1',\n",
       "       'primary completion date_df1', 'study completion date_df1',\n",
       "       'inclusion criteria_df1', 'exclusion criteria_df1',\n",
       "       'trial tag/attribute_df1', 'other trial identifier(s).1_df1',\n",
       "       'trial outcome(s)_df1', 'competitor asset_df2', 'sponsor(s)_df2',\n",
       "       'trial title_df2', 'condition/disease_df2', 'trial phase_df2',\n",
       "       'trial status_df2', 'other trial identifier(s)_df2',\n",
       "       'target accrual_df2', 'actual accrual_df2', 'title acronym_df2',\n",
       "       'countries_df2', 'trial objective(s)_df2', 'study design_df2',\n",
       "       'patient segments_df2', 'treatment plan_df2', 'dosing/comparator_df2',\n",
       "       'roa_df2', 'outcome measures_df2', 'study start date_df2',\n",
       "       'primary completion date_df2', 'study completion date_df2',\n",
       "       'inclusion criteria_df2', 'exclusion criteria_df2',\n",
       "       'trial tag/attribute_df2', 'other trial identifier(s).1_df2',\n",
       "       'trial outcome(s)_df2', '_merge', 'study design_match',\n",
       "       'study start date_match', 'patient segments_match',\n",
       "       'dosing/comparator_match', 'other trial identifier(s)_match',\n",
       "       'target accrual_match', 'actual accrual_match',\n",
       "       'study completion date_match', 'trial outcome(s)_match',\n",
       "       'inclusion criteria_match', 'title acronym_match', 'countries_match',\n",
       "       'trial objective(s)_match', 'trial tag/attribute_match', 'roa_match',\n",
       "       'other trial identifier(s).1_match', 'sponsor(s)_match',\n",
       "       'competitor asset_match', 'trial status_match',\n",
       "       'exclusion criteria_match', 'trial title_match', 'trial phase_match',\n",
       "       'condition/disease_match', 'outcome measures_match',\n",
       "       'treatment plan_match', 'primary completion date_match'],\n",
       "      dtype='object')"
      ]
     },
     "execution_count": 15,
     "metadata": {},
     "output_type": "execute_result"
    }
   ],
   "source": [
    "data.columns"
   ]
  },
  {
   "cell_type": "code",
   "execution_count": null,
   "metadata": {},
   "outputs": [],
   "source": [
    "### Dataframe 1 ###\n",
    "data1 = data[['clinical trial identifier', 'competitor asset_df1', 'sponsor(s)_df1',\n",
    "       'trial title_df1', 'condition/disease_df1', 'trial phase_df1',\n",
    "       'trial status_df1', 'other trial identifier(s)_df1',\n",
    "       'target accrual_df1', 'actual accrual_df1', 'title acronym_df1',\n",
    "       'countries_df1', 'trial objective(s)_df1', 'study design_df1',\n",
    "       'patient segments_df1', 'treatment plan_df1', 'dosing/comparator_df1',\n",
    "       'roa_df1', 'outcome measures_df1', 'study start date_df1',\n",
    "       'primary completion date_df1', 'study completion date_df1',\n",
    "       'inclusion criteria_df1', 'exclusion criteria_df1',\n",
    "       'trial tag/attribute_df1', 'other trial identifier(s).1_df1',\n",
    "       'trial outcome(s)_df1']]"
   ]
  },
  {
   "cell_type": "code",
   "execution_count": null,
   "metadata": {},
   "outputs": [],
   "source": [
    "### Renaming Column names ###\n",
    "data1.columns = ['clinical trial identifier', 'competitor asset', 'sponsor(s)',\n",
    "       'trial title', 'condition/disease', 'trial phase',\n",
    "       'trial status', 'other trial identifier(s)',\n",
    "       'target accrual', 'actual accrual', 'title acronym',\n",
    "       'countries', 'trial objective(s)', 'study design',\n",
    "       'patient segments', 'treatment plan', 'dosing/comparator',\n",
    "       'roa', 'outcome measures', 'study start date',\n",
    "       'primary completion date', 'study completion date',\n",
    "       'inclusion criteria', 'exclusion criteria',\n",
    "       'trial tag/attribute', 'other trial identifier(s).1',\n",
    "       'trial outcome(s)']"
   ]
  },
  {
   "cell_type": "code",
   "execution_count": null,
   "metadata": {},
   "outputs": [],
   "source": [
    "### Dataframe 2 ###\n",
    "data2 = data[['clinical trial identifier', 'competitor asset_df2', 'sponsor(s)_df2',\n",
    "       'trial title_df2', 'condition/disease_df2', 'trial phase_df2',\n",
    "       'trial status_df2', 'other trial identifier(s)_df2',\n",
    "       'target accrual_df2', 'actual accrual_df2', 'title acronym_df2',\n",
    "       'countries_df2', 'trial objective(s)_df2', 'study design_df2',\n",
    "       'patient segments_df2', 'treatment plan_df2', 'dosing/comparator_df2',\n",
    "       'roa_df2', 'outcome measures_df2', 'study start date_df2',\n",
    "       'primary completion date_df2', 'study completion date_df2',\n",
    "       'inclusion criteria_df2', 'exclusion criteria_df2',\n",
    "       'trial tag/attribute_df2', 'other trial identifier(s).1_df2',\n",
    "       'trial outcome(s)_df2']]"
   ]
  },
  {
   "cell_type": "code",
   "execution_count": null,
   "metadata": {},
   "outputs": [],
   "source": [
    "### Renaming Column names ###\n",
    "data2.columns = ['clinical trial identifier', 'competitor asset', 'sponsor(s)',\n",
    "       'trial title', 'condition/disease', 'trial phase',\n",
    "       'trial status', 'other trial identifier(s)',\n",
    "       'target accrual', 'actual accrual', 'title acronym',\n",
    "       'countries', 'trial objective(s)', 'study design',\n",
    "       'patient segments', 'treatment plan', 'dosing/comparator',\n",
    "       'roa', 'outcome measures', 'study start date',\n",
    "       'primary completion date', 'study completion date',\n",
    "       'inclusion criteria', 'exclusion criteria',\n",
    "       'trial tag/attribute', 'other trial identifier(s).1',\n",
    "       'trial outcome(s)']"
   ]
  },
  {
   "cell_type": "code",
   "execution_count": null,
   "metadata": {},
   "outputs": [],
   "source": [
    "### Match of 2 dataframes ###\n",
    "data_match = data[['clinical trial identifier', 'competitor asset_match', 'sponsor(s)_match',\n",
    "       'trial title_match', 'condition/disease_match', 'trial phase_match',\n",
    "       'trial status_match', 'other trial identifier(s)_match',\n",
    "       'target accrual_match', 'actual accrual_match', 'title acronym_match',\n",
    "       'countries_match', 'trial objective(s)_match', 'study design_match',\n",
    "       'patient segments_match', 'treatment plan_match', 'dosing/comparator_match',\n",
    "       'roa_match', 'outcome measures_match', 'study start date_match',\n",
    "       'primary completion date_match', 'study completion date_match',\n",
    "       'inclusion criteria_match', 'exclusion criteria_match',\n",
    "       'trial tag/attribute_match', 'other trial identifier(s).1_match',\n",
    "       'trial outcome(s)_match']]"
   ]
  },
  {
   "cell_type": "code",
   "execution_count": null,
   "metadata": {},
   "outputs": [],
   "source": []
  },
  {
   "cell_type": "code",
   "execution_count": null,
   "metadata": {},
   "outputs": [],
   "source": [
    "k=data_match.shape[0]     ## No.of Rows\n",
    "l=data_match.shape[1]     ## No.of Columns\n",
    "r=[]                      ## list to store row no's\n",
    "c=[]                      ## list to store column no's\n",
    "column=[]                 ## list to store columns names\n",
    "NCT=[]                    ## list to store NCT no's\n",
    "Intrvn=[]\n",
    "d1=[]                     ## list to store df1 elements\n",
    "d2=[]                     ## list to store df2 elements to know what is actual change\n",
    "for j in range(1,l,1):\n",
    "    for i in range(0,k,1):\n",
    "        if (data_match.iloc[i][j]==False):\n",
    "            print(\"column name:\",data1.iloc[:,j].name)\n",
    "            column.append(data1.iloc[:,j].name)\n",
    "            r.append(i)\n",
    "            c.append(j)\n",
    "            NCT.append(data1.iloc[i,0])\n",
    "            Intrvn.append(data1.iloc[i,5])\n",
    "            d1.append(data1.iloc[i,j])\n",
    "            d2.append(data2.iloc[i,j])\n",
    "            print(\"row index is: \",i)            \n",
    "            print(\"column index is: \", j)\n",
    "            print(\"--------------------------\")"
   ]
  },
  {
   "cell_type": "code",
   "execution_count": null,
   "metadata": {},
   "outputs": [],
   "source": [
    "df = pd.DataFrame() ## Creating a dataframe to store changes"
   ]
  },
  {
   "cell_type": "code",
   "execution_count": null,
   "metadata": {},
   "outputs": [],
   "source": [
    "## Storing lists as a column in a dataframe\n",
    "df['NCT_Number'] = NCT\n",
    "df['Interventions'] = Intrvn\n",
    "df['Column_Changes'] = column\n",
    "df['DF1_Value'] = d1\n",
    "df['DF2_Value'] = d2"
   ]
  },
  {
   "cell_type": "code",
   "execution_count": null,
   "metadata": {},
   "outputs": [],
   "source": [
    "df.sort_values(by=['NCT_Number'])  ## Sorting by NCT_Number\n",
    "df.reset_index(drop=True) ## Resetting index"
   ]
  },
  {
   "cell_type": "code",
   "execution_count": null,
   "metadata": {},
   "outputs": [],
   "source": [
    "#tt2_changes = tt2.iloc[[25]] ## capturing row which are having changes and storing them in dataframe"
   ]
  },
  {
   "cell_type": "code",
   "execution_count": null,
   "metadata": {},
   "outputs": [],
   "source": [
    "print(tt1.shape)\n",
    "print(tt2.shape)\n",
    "#print(ct1_extra.shape)\n",
    "print(tt2_changes.shape)"
   ]
  },
  {
   "cell_type": "code",
   "execution_count": null,
   "metadata": {},
   "outputs": [],
   "source": [
    "Update = tt1    #pd.read_csv(\"CT_RA_updations26122020.csv\")"
   ]
  },
  {
   "cell_type": "code",
   "execution_count": null,
   "metadata": {},
   "outputs": [],
   "source": [
    "## Creating a frame with 3 dataframes (Base, changes and extra rows identified)\n",
    "frames = [Update, tt2_changes]"
   ]
  },
  {
   "cell_type": "code",
   "execution_count": null,
   "metadata": {},
   "outputs": [],
   "source": [
    "CT_Master = pd.concat(frames) ## Concateneting all 3 dataframes "
   ]
  },
  {
   "cell_type": "code",
   "execution_count": null,
   "metadata": {},
   "outputs": [],
   "source": [
    "print(CT_Master.shape) ## Shape of updated file\n",
    "\n",
    "#### Storing data with appending changes history as on date\n",
    "from datetime import date\n",
    "filename = 'CT_RA_updations'+ str(date.today())\n",
    "CT_Master.to_csv(filename+'.csv', index=False)"
   ]
  },
  {
   "cell_type": "code",
   "execution_count": null,
   "metadata": {},
   "outputs": [],
   "source": [
    "#### storing latest file as a base tracker for further usage ####\n",
    "tt2.to_csv('CT_RA_Tracker.csv', index=False)"
   ]
  },
  {
   "cell_type": "code",
   "execution_count": null,
   "metadata": {},
   "outputs": [],
   "source": [
    "import csv\n",
    "import smtplib,ssl\n",
    "from email.mime.multipart import MIMEMultipart\n",
    "from email.mime.base import MIMEBase\n",
    "from email.mime.text import MIMEText\n",
    "from email.utils import formatdate\n",
    "from email import encoders\n"
   ]
  },
  {
   "cell_type": "code",
   "execution_count": null,
   "metadata": {},
   "outputs": [],
   "source": [
    "from datetime import date, datetime, timedelta\n",
    "\n",
    "table = '' \n",
    "with open('C:/Users/11201116/Documents/Techwave/GSK_Pilot_Project/CT_RA_Tracker/data/2020-01-22_changes.csv') as csvFile: \n",
    "    reader = csv.DictReader(csvFile, delimiter=',')    \n",
    "    table = '<tr>{}</tr>'.format(''.join(['<td class=\"cell\">{}</td>'.format(header) for header in reader.fieldnames])) \n",
    "    for row in reader:  \n",
    "        table_row = '<tr>' \n",
    "        for fn in reader.fieldnames:            \n",
    "            table_row += '<td class=\"cell\">{}</td>'.format(row[fn]) \n",
    "        table_row += '</tr>' \n",
    "        table += table_row\n",
    "\n",
    "\n",
    "html = \"\"\"\n",
    "<head>\n",
    "<meta http-equiv=\"Content-Type\" content=\"text/html; charset=utf-8\">\n",
    "<title>html title</title>\n",
    "<style type=\"text/css\" media=\"screen\">\n",
    "table{\n",
    "background-color: #000000;\n",
    "    empty-cells:hide;\n",
    "  Border:2px red;\n",
    "  style=\"color:#ffff00;\n",
    " }\n",
    " td.cell{\n",
    "    background-color: blue;\n",
    " }\n",
    " \n",
    " tr.header {color: red;} \n",
    "</style>\n",
    "</head>\n",
    "<html><body><p>Hi!</p>\n",
    "<p>Identified changes in trials. Please find below: </p>\n",
    "<table border=\"1\"> \n",
    "%s \n",
    "</table>\n",
    "<p>Regards,</p>\n",
    "<p>Python </p>\n",
    "</body></html>\"\"\" % table\n",
    "\n",
    "message = MIMEMultipart(\n",
    "    \"alternative\", None, [ MIMEText(html,'html')])\n",
    "\n",
    "\n",
    "me = 'techwave.datascience@gmail.com'\n",
    "password = 'zyaddgxcevsaqvnr'\n",
    "server = 'smtp.gmail.com:587'\n",
    "you = 'venuka.chintapally@techwave.net'\n",
    "\n",
    "message['Subject'] = \"Your data\"\n",
    "message['From'] = me\n",
    "message['To'] = you\n",
    "server = smtplib.SMTP(server)\n",
    "server.ehlo()\n",
    "server.starttls()\n",
    "server.login(me, password)\n",
    "server.sendmail(me, you, message.as_string())\n",
    "server.quit()\n"
   ]
  },
  {
   "cell_type": "code",
   "execution_count": null,
   "metadata": {},
   "outputs": [],
   "source": []
  }
 ],
 "metadata": {
  "kernelspec": {
   "display_name": "Python 3",
   "language": "python",
   "name": "python3"
  },
  "language_info": {
   "codemirror_mode": {
    "name": "ipython",
    "version": 3
   },
   "file_extension": ".py",
   "mimetype": "text/x-python",
   "name": "python",
   "nbconvert_exporter": "python",
   "pygments_lexer": "ipython3",
   "version": "3.7.4"
  }
 },
 "nbformat": 4,
 "nbformat_minor": 2
}
